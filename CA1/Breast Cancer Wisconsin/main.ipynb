{
 "cells": [
  {
   "cell_type": "code",
   "execution_count": 44,
   "metadata": {},
   "outputs": [],
   "source": [
    "import numpy as np\n",
    "import pandas as pd\n",
    "\n",
    "from sklearn.metrics import precision_score, recall_score, accuracy_score, confusion_matrix\n",
    "from sklearn.naive_bayes import GaussianNB\n",
    "from scipy.stats import norm"
   ]
  },
  {
   "cell_type": "code",
   "execution_count": 45,
   "metadata": {},
   "outputs": [],
   "source": [
    "data = pd.read_csv('data.csv')"
   ]
  },
  {
   "cell_type": "code",
   "execution_count": 46,
   "metadata": {},
   "outputs": [],
   "source": [
    "TRAIN_SIZE_RATIO = 0.8\n",
    "\n",
    "#train-test split\n",
    "train_data = data[:int(TRAIN_SIZE_RATIO * len(data))]\n",
    "test_data = data[int(TRAIN_SIZE_RATIO * len(data)):]"
   ]
  },
  {
   "cell_type": "code",
   "execution_count": 47,
   "metadata": {},
   "outputs": [],
   "source": [
    "train_labels = train_data['diagnosis'].to_numpy()\n",
    "train_features = train_data.drop(columns=['id', 'diagnosis', 'Unnamed: 32'], inplace=False).to_numpy()\n",
    "\n",
    "test_labels = test_data['diagnosis'].to_numpy()\n",
    "test_features = test_data.drop(columns=['id', 'diagnosis', 'Unnamed: 32'], inplace=False).to_numpy()"
   ]
  },
  {
   "cell_type": "markdown",
   "metadata": {},
   "source": [
    "# Implementation"
   ]
  },
  {
   "cell_type": "code",
   "execution_count": 48,
   "metadata": {},
   "outputs": [],
   "source": [
    "class GaussianNaiveBayesClassifier:\n",
    "    def __init__(self):\n",
    "        self.class_probs = {}\n",
    "        self.feature_stats = {}\n",
    "        self.classes = []\n",
    "\n",
    "    def fit(self, X, y):\n",
    "        # Calculate class probabilities\n",
    "        self.classes, class_counts = np.unique(y, return_counts=True)\n",
    "        total_samples = len(y)\n",
    "        for c, count in zip(self.classes, class_counts):\n",
    "            self.class_probs[c] = count / total_samples\n",
    "\n",
    "        # Calculate feature statistics (mean and standard deviation)\n",
    "        for c in self.classes:\n",
    "            self.feature_stats[c] = {\n",
    "                'mean': X[y == c].mean(axis=0),\n",
    "                'std': X[y == c].std(axis=0)\n",
    "            }\n",
    "\n",
    "    def predict(self, X):\n",
    "        predictions = []\n",
    "        for x in X:\n",
    "            posteriors = {}\n",
    "            for c in self.classes:\n",
    "                class_prob = np.log(self.class_probs[c])\n",
    "                feature_probs = norm.logpdf(x, loc=self.feature_stats[c]['mean'], scale=self.feature_stats[c]['std'])\n",
    "                posterior = class_prob + np.sum(feature_probs)\n",
    "                posteriors[c] = posterior\n",
    "            predictions.append(max(posteriors, key=posteriors.get))\n",
    "        return predictions\n",
    "\n",
    "\n",
    "classifier = GaussianNaiveBayesClassifier()\n",
    "classifier.fit(train_features, train_labels)\n",
    "\n",
    "train_predictions = classifier.predict(train_features)\n",
    "test_predictions = classifier.predict(test_features)\n",
    "\n"
   ]
  },
  {
   "cell_type": "code",
   "execution_count": 49,
   "metadata": {},
   "outputs": [
    {
     "name": "stdout",
     "output_type": "stream",
     "text": [
      "Train performance:\n",
      "\taccuracy : 0.9406593406593406\n",
      "\tpresicion : 0.9491525423728814\n",
      "\trecall : 0.9032258064516129\n",
      "confusion matrix : \n",
      "[[260   9]\n",
      " [ 18 168]]\n",
      "Test performance:\n",
      "\taccuracy : 0.9210526315789473\n",
      "\tpresicion : 0.7741935483870968\n",
      "\trecall : 0.9230769230769231\n",
      "confusion matrix : \n",
      "[[81  7]\n",
      " [ 2 24]]\n"
     ]
    }
   ],
   "source": [
    "# train performance\n",
    "def evaluate_model(train_labels, test_labels, train_predictions, test_predictions):\n",
    "    train_precision = precision_score(train_labels, train_predictions, pos_label='M')\n",
    "    train_recall = recall_score(train_labels, train_predictions, pos_label='M')\n",
    "    train_accucary = accuracy_score(train_labels, train_predictions)\n",
    "    train_confusion_matrix = confusion_matrix(train_labels, train_predictions)\n",
    "\n",
    "    # test performance\n",
    "    test_precision = precision_score(test_labels, test_predictions, pos_label='M')\n",
    "    test_recall = recall_score(test_labels, test_predictions, pos_label='M')\n",
    "    test_accucary = accuracy_score(test_labels, test_predictions)\n",
    "    test_confusion_matrix = confusion_matrix(test_labels, test_predictions)\n",
    "\n",
    "    print(f'Train performance:\\n\\taccuracy : {train_accucary}\\n\\tpresicion : {train_precision}\\n\\trecall : {train_recall}\\nconfusion matrix : \\n{train_confusion_matrix}')\n",
    "    print(f'Test performance:\\n\\taccuracy : {test_accucary}\\n\\tpresicion : {test_precision}\\n\\trecall : {test_recall}\\nconfusion matrix : \\n{test_confusion_matrix}')\n",
    "\n",
    "evaluate_model(train_labels, test_labels, train_predictions, test_predictions)"
   ]
  },
  {
   "cell_type": "markdown",
   "metadata": {},
   "source": [
    "# Using sklearn"
   ]
  },
  {
   "cell_type": "code",
   "execution_count": 50,
   "metadata": {},
   "outputs": [
    {
     "name": "stdout",
     "output_type": "stream",
     "text": [
      "Train performance:\n",
      "\taccuracy : 0.945054945054945\n",
      "\tpresicion : 0.9497206703910615\n",
      "\trecall : 0.9139784946236559\n",
      "confusion matrix : \n",
      "[[260   9]\n",
      " [ 16 170]]\n",
      "Test performance:\n",
      "\taccuracy : 0.956140350877193\n",
      "\tpresicion : 0.8888888888888888\n",
      "\trecall : 0.9230769230769231\n",
      "confusion matrix : \n",
      "[[85  3]\n",
      " [ 2 24]]\n"
     ]
    }
   ],
   "source": [
    "classifier = GaussianNB()\n",
    "\n",
    "classifier.fit(train_features, train_labels)\n",
    "train_predictions = classifier.predict(train_features)\n",
    "test_predictions = classifier.predict(test_features)\n",
    "\n",
    "evaluate_model(train_labels, test_labels, train_predictions, test_predictions)"
   ]
  }
 ],
 "metadata": {
  "kernelspec": {
   "display_name": "Python 3",
   "language": "python",
   "name": "python3"
  },
  "language_info": {
   "codemirror_mode": {
    "name": "ipython",
    "version": 3
   },
   "file_extension": ".py",
   "mimetype": "text/x-python",
   "name": "python",
   "nbconvert_exporter": "python",
   "pygments_lexer": "ipython3",
   "version": "3.10.7"
  }
 },
 "nbformat": 4,
 "nbformat_minor": 2
}
