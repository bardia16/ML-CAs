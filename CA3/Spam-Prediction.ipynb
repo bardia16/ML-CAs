{
 "cells": [
  {
   "cell_type": "code",
   "execution_count": 29,
   "metadata": {},
   "outputs": [],
   "source": [
    "import pandas as pd\n",
    "from sklearn.model_selection import train_test_split\n",
    "from sklearn.feature_extraction.text import CountVectorizer\n",
    "from sklearn.svm import SVC\n",
    "from sklearn.model_selection import GridSearchCV, RandomizedSearchCV\n",
    "from sklearn.metrics import accuracy_score, confusion_matrix\n",
    "import io\n",
    "\n",
    "# Cant load csv file ( utf-8 decode error ), going to fix it\n",
    "with open('data/spamSMS.csv', 'rb') as f:\n",
    "    data = f.read()\n",
    "\n",
    "text = data.decode('utf-8', errors='replace')\n",
    "\n",
    "# Replace invalid character\n",
    "text = text.replace('\\ufffd', '?')  \n",
    "\n",
    "# Load data\n",
    "df = pd.read_csv(io.StringIO(text))"
   ]
  },
  {
   "cell_type": "code",
   "execution_count": 30,
   "metadata": {},
   "outputs": [
    {
     "name": "stdout",
     "output_type": "stream",
     "text": [
      "ham     4825\n",
      "spam     747\n",
      "Name: v1, dtype: int64\n"
     ]
    }
   ],
   "source": [
    "# Examine class distribution\n",
    "print(df['v1'].value_counts()) "
   ]
  },
  {
   "cell_type": "code",
   "execution_count": 31,
   "metadata": {},
   "outputs": [],
   "source": [
    "# Vectorize text data\n",
    "vectorizer = CountVectorizer()\n",
    "X = vectorizer.fit_transform(df['v2'])\n",
    "y = df['v1']\n",
    "\n",
    "# Split data into train and test\n",
    "X_train, X_test, y_train, y_test = train_test_split(X, y, test_size=0.3, random_state=42)\n"
   ]
  },
  {
   "cell_type": "markdown",
   "metadata": {},
   "source": [
    "# RBF kernel"
   ]
  },
  {
   "cell_type": "code",
   "execution_count": 32,
   "metadata": {},
   "outputs": [],
   "source": [
    "svm = SVC(kernel='rbf')"
   ]
  },
  {
   "cell_type": "code",
   "execution_count": 33,
   "metadata": {},
   "outputs": [
    {
     "name": "stdout",
     "output_type": "stream",
     "text": [
      "Best Parameters: {'C': 10, 'gamma': 0.01}\n",
      "Best Score: 0.9825641025641026\n"
     ]
    }
   ],
   "source": [
    "# Grid search hyperparameters\n",
    "grid = {'C': [0.1, 1, 10], 'gamma': [1, 0.1, 0.01]}\n",
    "grid_search = GridSearchCV(svm, grid, scoring='accuracy', cv=5)\n",
    "grid_search.fit(X_train, y_train)\n",
    "print('Best Parameters:', grid_search.best_params_)\n",
    "print('Best Score:', grid_search.best_score_)"
   ]
  },
  {
   "cell_type": "code",
   "execution_count": 34,
   "metadata": {},
   "outputs": [
    {
     "name": "stdout",
     "output_type": "stream",
     "text": [
      "Best Parameters: {'gamma': 0.01, 'C': 10}\n",
      "Best Score: 0.9825641025641026\n"
     ]
    }
   ],
   "source": [
    "# Random search hyperparameters\n",
    "random_grid = {'C': [0.01, 0.1, 1, 10, 100], \n",
    "               'gamma': [0.001, 0.01, 0.01, 1, 10]}\n",
    "random_search = RandomizedSearchCV(svm, param_distributions=random_grid, scoring='accuracy', cv=5)\n",
    "random_search.fit(X_train, y_train) \n",
    "print('Best Parameters:', random_search.best_params_)\n",
    "print('Best Score:', random_search.best_score_)"
   ]
  },
  {
   "cell_type": "code",
   "execution_count": 35,
   "metadata": {},
   "outputs": [
    {
     "name": "stdout",
     "output_type": "stream",
     "text": [
      "Accuracy: 0.9802631578947368\n",
      "[[1447    6]\n",
      " [  27  192]]\n"
     ]
    }
   ],
   "source": [
    "# Evaluate on test set\n",
    "y_pred = random_search.predict(X_test)\n",
    "print('Accuracy:', accuracy_score(y_test, y_pred))\n",
    "print(confusion_matrix(y_test, y_pred))"
   ]
  },
  {
   "cell_type": "markdown",
   "metadata": {},
   "source": [
    "# Linear kernel"
   ]
  },
  {
   "cell_type": "code",
   "execution_count": 36,
   "metadata": {},
   "outputs": [],
   "source": [
    "svm = SVC(kernel='linear')"
   ]
  },
  {
   "cell_type": "code",
   "execution_count": 37,
   "metadata": {},
   "outputs": [
    {
     "name": "stdout",
     "output_type": "stream",
     "text": [
      "Best Parameters: {'C': 0.5}\n",
      "Best Score: 0.9830769230769232\n"
     ]
    }
   ],
   "source": [
    "# Grid search hyperparameters\n",
    "grid = {'C': [0.01, 0.1, 0.2, 0.3, 0.4, 0.5, 0.6, 0.7, 0.8, 0.9, 1, 10, 100]}\n",
    "grid_search = GridSearchCV(svm, grid, scoring='accuracy', cv=5)\n",
    "grid_search.fit(X_train, y_train)\n",
    "print('Best Parameters:', grid_search.best_params_)\n",
    "print('Best Score:', grid_search.best_score_)"
   ]
  },
  {
   "cell_type": "code",
   "execution_count": 38,
   "metadata": {},
   "outputs": [
    {
     "name": "stdout",
     "output_type": "stream",
     "text": [
      "Best Parameters: {'C': 0.7}\n",
      "Best Score: 0.9828205128205129\n"
     ]
    }
   ],
   "source": [
    "# Random search hyperparameters\n",
    "random_grid = {'C': [0.01, 0.1, 0.2, 0.3, 0.4, 0.5, 0.6, 0.7, 0.8, 0.9, 1, 10, 100]}\n",
    "random_search = RandomizedSearchCV(svm, param_distributions=random_grid, scoring='accuracy', cv=5)\n",
    "random_search.fit(X_train, y_train) \n",
    "print('Best Parameters:', random_search.best_params_)\n",
    "print('Best Score:', random_search.best_score_)"
   ]
  },
  {
   "cell_type": "code",
   "execution_count": 39,
   "metadata": {},
   "outputs": [
    {
     "name": "stdout",
     "output_type": "stream",
     "text": [
      "Accuracy: 0.9778708133971292\n",
      "[[1448    5]\n",
      " [  32  187]]\n"
     ]
    }
   ],
   "source": [
    "# Evaluate on test set\n",
    "y_pred = random_search.predict(X_test)\n",
    "print('Accuracy:', accuracy_score(y_test, y_pred))\n",
    "print(confusion_matrix(y_test, y_pred))"
   ]
  }
 ],
 "metadata": {
  "kernelspec": {
   "display_name": "Python 3",
   "language": "python",
   "name": "python3"
  },
  "language_info": {
   "codemirror_mode": {
    "name": "ipython",
    "version": 3
   },
   "file_extension": ".py",
   "mimetype": "text/x-python",
   "name": "python",
   "nbconvert_exporter": "python",
   "pygments_lexer": "ipython3",
   "version": "3.10.7"
  }
 },
 "nbformat": 4,
 "nbformat_minor": 2
}
