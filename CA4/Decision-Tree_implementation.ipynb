{
  "nbformat": 4,
  "nbformat_minor": 0,
  "metadata": {
    "colab": {
      "provenance": []
    },
    "kernelspec": {
      "name": "python3",
      "display_name": "Python 3"
    },
    "language_info": {
      "name": "python"
    }
  },
  "cells": [
    {
      "cell_type": "code",
      "execution_count": 66,
      "metadata": {
        "id": "UUI2NCso3Wo9"
      },
      "outputs": [],
      "source": [
        "import pandas as pd\n",
        "import numpy as np\n",
        "\n",
        "class DecisionTreeID3:\n",
        "    def __init__(self):\n",
        "        self.tree = None\n",
        "\n",
        "    def fit(self, X, y):\n",
        "        self.tree = self._build_tree(X, y)\n",
        "\n",
        "    def predict(self, X):\n",
        "        return [self._predict_single(self.tree, x) for _, x in X.iterrows()]\n",
        "\n",
        "    def _build_tree(self, X, y):\n",
        "        if len(set(y)) == 1:\n",
        "            return y.iloc[0]\n",
        "\n",
        "        if X.empty:\n",
        "            return y.value_counts().idxmax()\n",
        "\n",
        "        # Select the best feature to split\n",
        "        best_feature = self._select_best_feature(X, y)\n",
        "        tree = {best_feature: {}}\n",
        "\n",
        "        # Recursively build subtrees\n",
        "        for value in X[best_feature].unique():\n",
        "            sub_X = X[X[best_feature] == value].drop(columns=best_feature)\n",
        "            sub_y = y[X[best_feature] == value]\n",
        "            subtree = self._build_tree(sub_X, sub_y)\n",
        "            tree[best_feature][value] = subtree\n",
        "\n",
        "        return tree\n",
        "\n",
        "    def _select_best_feature(self, X, y):\n",
        "        info_gains = []\n",
        "        for feature in X.columns:\n",
        "            info_gains.append((feature, self._information_gain(X[feature], y)))\n",
        "        return max(info_gains, key=lambda x: x[1])[0]\n",
        "\n",
        "    def _information_gain(self, feature, y):\n",
        "        total_entropy = self._entropy(y)\n",
        "        weighted_entropy = sum((feature.value_counts()[value] / len(feature)) * self._entropy(y[feature == value]) for value in feature.unique())\n",
        "        return total_entropy - weighted_entropy\n",
        "\n",
        "    def _entropy(self, y):\n",
        "        probabilities = y.value_counts(normalize=True)\n",
        "        return -sum(probabilities * np.log2(probabilities))\n",
        "\n",
        "    def _predict_single(self, tree, x):\n",
        "        if not isinstance(tree, dict):\n",
        "            return tree\n",
        "        root = next(iter(tree))\n",
        "        subtree = tree[root].get(x[root], 1)  # Handling unseen feature values\n",
        "        return self._predict_single(subtree, x) if isinstance(subtree, dict) else subtree\n",
        "\n"
      ]
    },
    {
      "cell_type": "code",
      "source": [
        "def read_data(file_name):\n",
        "    labels = []\n",
        "    features = []\n",
        "    with open(file_name, 'r') as file:\n",
        "      for line in file:\n",
        "          values = line.strip().split(', ')\n",
        "\n",
        "          # Process the label and convert to 0 or 1\n",
        "          label = 0 if values[0] == '>50K' else 1\n",
        "          labels.append(label)\n",
        "\n",
        "          feature_values = values[1:]\n",
        "          features.append(feature_values)\n",
        "\n",
        "    data = {\n",
        "        'workclass': [],\n",
        "        'education': [],\n",
        "        'marital-status': [],\n",
        "        'occupation': [],\n",
        "        'relationship': [],\n",
        "        'race': [],\n",
        "        'sex': [],\n",
        "        'native-country': []\n",
        "    }\n",
        "    for feature_values in features:\n",
        "        data['workclass'].append(feature_values[0])\n",
        "        data['education'].append(feature_values[1])\n",
        "        data['marital-status'].append(feature_values[2])\n",
        "        data['occupation'].append(feature_values[3])\n",
        "        data['relationship'].append(feature_values[4])\n",
        "        data['race'].append(feature_values[5])\n",
        "        data['sex'].append(feature_values[6])\n",
        "        data['native-country'].append(feature_values[7])\n",
        "\n",
        "    df = pd.DataFrame(data)\n",
        "    return df, labels"
      ],
      "metadata": {
        "id": "sFSoxheMFq0z"
      },
      "execution_count": 67,
      "outputs": []
    },
    {
      "cell_type": "code",
      "source": [
        "import numpy as np\n",
        "import pandas as pd\n",
        "\n",
        "X_train, Y_train = read_data('adult.train.10k.discrete')\n",
        "X_test, Y_test = read_data('adult.test.10k.discrete')\n",
        "\n",
        "\n"
      ],
      "metadata": {
        "id": "qWyi0C4v6SO4"
      },
      "execution_count": 68,
      "outputs": []
    },
    {
      "cell_type": "code",
      "source": [
        "dt = DecisionTreeID3()\n",
        "dt.fit(X_train, pd.Series(Y_train))\n"
      ],
      "metadata": {
        "id": "zfgKD3Q4GIfY"
      },
      "execution_count": 69,
      "outputs": []
    },
    {
      "cell_type": "code",
      "source": [
        "y_pred_test = dt.predict(X_test)\n",
        "y_pred_train = dt.predict(X_train)"
      ],
      "metadata": {
        "id": "YmFE5v-Pjvd2"
      },
      "execution_count": 71,
      "outputs": []
    },
    {
      "cell_type": "code",
      "source": [
        "from sklearn.metrics import accuracy_score\n",
        "\n",
        "print(f'Accuracy on train: {accuracy_score(Y_train, y_pred_train)}')\n",
        "print(f'Accuracy on test: {accuracy_score(Y_test, y_pred_test)}')"
      ],
      "metadata": {
        "id": "XQdcJb1k8EZp",
        "colab": {
          "base_uri": "https://localhost:8080/"
        },
        "outputId": "79ce737b-9de3-4093-ca3b-cee49b4ef27c"
      },
      "execution_count": 72,
      "outputs": [
        {
          "output_type": "stream",
          "name": "stdout",
          "text": [
            "Accuracy on train: 0.8754\n",
            "Accuracy on test: 0.8067\n"
          ]
        }
      ]
    }
  ]
}
